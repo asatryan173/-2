{
  "nbformat": 4,
  "nbformat_minor": 0,
  "metadata": {
    "colab": {
      "provenance": []
    },
    "kernelspec": {
      "name": "python3",
      "display_name": "Python 3"
    },
    "language_info": {
      "name": "python"
    }
  },
  "cells": [
    {
      "cell_type": "markdown",
      "source": [
        "# Практическая работа №2"
      ],
      "metadata": {
        "id": "VYg12jhuJOPA"
      }
    },
    {
      "cell_type": "markdown",
      "source": [
        "Выполнил студент группы ББМО-01-23 Асатрян Д.Р."
      ],
      "metadata": {
        "id": "0oivBHO4JSXv"
      }
    },
    {
      "cell_type": "markdown",
      "source": [
        "Шаг 1: Загрузка обученной модели и данных MNIST"
      ],
      "metadata": {
        "id": "tPocRn5cJa8_"
      }
    },
    {
      "cell_type": "code",
      "execution_count": 9,
      "metadata": {
        "colab": {
          "base_uri": "https://localhost:8080/"
        },
        "id": "ynQCAA8QJFNy",
        "outputId": "2d3301bb-5668-439b-ef5c-96857aba5aec"
      },
      "outputs": [
        {
          "output_type": "stream",
          "name": "stderr",
          "text": [
            "WARNING:absl:Compiled the loaded model, but the compiled metrics have yet to be built. `model.compile_metrics` will be empty until you train or evaluate the model.\n"
          ]
        },
        {
          "output_type": "stream",
          "name": "stdout",
          "text": [
            "\u001b[1m313/313\u001b[0m \u001b[32m━━━━━━━━━━━━━━━━━━━━\u001b[0m\u001b[37m\u001b[0m \u001b[1m1s\u001b[0m 1ms/step - accuracy: 0.9716 - loss: 0.0972\n",
            "Test accuracy on clean images: 0.9750999808311462\n"
          ]
        }
      ],
      "source": [
        "import tensorflow as tf\n",
        "from tensorflow.keras.datasets import mnist\n",
        "from tensorflow.keras.utils import to_categorical\n",
        "\n",
        "# Загрузка тестовых данных MNIST\n",
        "(_, _), (test_images, test_labels) = mnist.load_data()\n",
        "\n",
        "# Нормализация данных\n",
        "test_images = test_images / 255.0\n",
        "\n",
        "# Преобразование меток в формат one-hot\n",
        "test_labels = to_categorical(test_labels, num_classes=10)\n",
        "\n",
        "# Загрузка обученной модели\n",
        "model = tf.keras.models.load_model('/mnist_model.h5')\n",
        "\n",
        "# Проверка точности модели на обычных данных\n",
        "test_loss, test_acc = model.evaluate(test_images, test_labels)\n",
        "print(f'Test accuracy on clean images: {test_acc}')"
      ]
    },
    {
      "cell_type": "markdown",
      "source": [
        "Шаг 2: Реализация атаки FGSM"
      ],
      "metadata": {
        "id": "0azZ0a75KIx_"
      }
    },
    {
      "cell_type": "code",
      "source": [
        "import numpy as np\n",
        "# Функция для реализации FGSM атаки\n",
        "def fgsm_attack(image, epsilon, gradient):\n",
        "  # Применение знака градиента к изображению\n",
        "  perturbed_image = image + epsilon * np.sign(gradient)\n",
        "  # Обрезка значений, чтобы они оставались в пределах [0,1]\n",
        "  perturbed_image = np.clip(perturbed_image, 0, 1)\n",
        "  return perturbed_image\n",
        "# Вычисление градиента\n",
        "def generate_adversarial_example(model, image, label, epsilon):\n",
        "    # Превращаем изображение в формат, подходящий для модели\n",
        "    image = tf.convert_to_tensor(image.reshape((1, 28, 28, 1)))\n",
        "\n",
        "    # Если label — это one-hot вектор, преобразуем его в индекс\n",
        "    if len(label.shape) > 1 and label.shape[1] > 1:\n",
        "        label = np.argmax(label)\n",
        "    label = tf.convert_to_tensor(label)\n",
        "\n",
        "    with tf.GradientTape() as tape:\n",
        "        tape.watch(image)\n",
        "        prediction = model(image)\n",
        "        loss = tf.keras.losses.categorical_crossentropy(label[None], prediction)\n",
        "\n",
        "    gradient = tape.gradient(loss, image)\n",
        "\n",
        "    # Применяем FGSM\n",
        "    adversarial_image = fgsm_attack(image.numpy(), epsilon, gradient.numpy())\n",
        "\n",
        "    # Убедимся, что adversarial_image имеет правильную форму\n",
        "    return np.reshape(adversarial_image, (28, 28, 1))\n",
        "\n",
        "# Пример использования\n",
        "epsilon = 0.1  # Величина шума\n",
        "adversarial_example = generate_adversarial_example(model, test_images[0], test_labels[0], epsilon)"
      ],
      "metadata": {
        "id": "wmFB9e6iKMIJ"
      },
      "execution_count": 11,
      "outputs": []
    },
    {
      "cell_type": "markdown",
      "source": [
        "Шаг 3: Вывод результатов"
      ],
      "metadata": {
        "id": "mqJoRHQIK4WH"
      }
    },
    {
      "cell_type": "code",
      "source": [
        "import matplotlib.pyplot as plt\n",
        "\n",
        "plt.figure()\n",
        "plt.subplot(1, 2, 1)\n",
        "plt.title(\"Оригинальное изображение\")\n",
        "plt.imshow(test_images[0], cmap=\"gray\")\n",
        "plt.subplot(1, 2, 2)\n",
        "plt.title(\"Противоречивое изображение\")\n",
        "plt.imshow(adversarial_example.reshape(28, 28), cmap=\"gray\")\n",
        "plt.show()"
      ],
      "metadata": {
        "colab": {
          "base_uri": "https://localhost:8080/",
          "height": 308
        },
        "id": "5uAMGPoeK3Y_",
        "outputId": "ff3473bb-cc6a-4da3-eb0d-0d845139c458"
      },
      "execution_count": 15,
      "outputs": [
        {
          "output_type": "display_data",
          "data": {
            "text/plain": [
              "<Figure size 640x480 with 2 Axes>"
            ],
            "image/png": "[encoded data removed]"
          },
          "metadata": {}
        }
      ]
    },
    {
      "cell_type": "markdown",
      "source": [
        "Шаг 4: Оценка модели на противоречивых примерах"
      ],
      "metadata": {
        "id": "hpX-dgvmK_n3"
      }
    },
    {
      "cell_type": "code",
      "source": [
        "def generate_adversarial_dataset(model, images, labels, epsilon):\n",
        "    adversarial_images = []\n",
        "    for i in range(len(images)):\n",
        "        adv_image = generate_adversarial_example(model, images[i], labels[i], epsilon)\n",
        "        adversarial_images.append(adv_image.reshape(28, 28))\n",
        "\n",
        "    adversarial_images = np.array(adversarial_images)\n",
        "\n",
        "    # Проверка формы\n",
        "    print(\"Shape of adversarial_images:\", adversarial_images.shape)\n",
        "\n",
        "    return adversarial_images\n",
        "\n",
        "# Генерация противоречивых примеров\n",
        "adversarial_images = generate_adversarial_dataset(model, test_images, test_labels, epsilon)\n",
        "\n",
        "# Проверка размеров\n",
        "adversarial_loss, adversarial_acc = model.evaluate(adversarial_images, test_labels)\n",
        "print(f'Accuracy on a small subset of adversarial examples: {adversarial_acc}')"
      ],
      "metadata": {
        "colab": {
          "base_uri": "https://localhost:8080/"
        },
        "id": "Xc3BIaLtLDN_",
        "outputId": "7cd29d34-1722-4d5a-cb44-e9b72b9bd24e"
      },
      "execution_count": 17,
      "outputs": [
        {
          "output_type": "stream",
          "name": "stdout",
          "text": [
            "Shape of adversarial_images: (10000, 28, 28)\n",
            "\u001b[1m313/313\u001b[0m \u001b[32m━━━━━━━━━━━━━━━━━━━━\u001b[0m\u001b[37m\u001b[0m \u001b[1m1s\u001b[0m 2ms/step - accuracy: 0.1073 - loss: 6.7674\n",
            "Accuracy on a small subset of adversarial examples: 0.12970000505447388\n"
          ]
        }
      ]
    },
    {
      "cell_type": "markdown",
      "source": [
        "Шаг 5: Сравнение результатов"
      ],
      "metadata": {
        "id": "mZC1An3MRaJR"
      }
    },
    {
      "cell_type": "code",
      "source": [
        "print(f'Точность на чистых изображениях: {test_acc}')\n",
        "print(f'Точность на противоречивых примерах: {adversarial_acc}')"
      ],
      "metadata": {
        "colab": {
          "base_uri": "https://localhost:8080/"
        },
        "id": "6sdNLOQeRZvq",
        "outputId": "fb6b3cf2-ac96-4cd7-c208-69f11b14d2e0"
      },
      "execution_count": 18,
      "outputs": [
        {
          "output_type": "stream",
          "name": "stdout",
          "text": [
            "Точность на чистых изображениях: 0.9750999808311462\n",
            "Точность на противоречивых примерах: 0.12970000505447388\n"
          ]
        }
      ]
    },
    {
      "cell_type": "markdown",
      "source": [
        "Модель демонстрирует высокую точность на обычных данных, достигая 97,5%. Однако, когда речь идет о противоречивых примерах, этот показатель резко падает до 12,9%.\n",
        "Такое значительное снижение эффективности указывает на то, что модель испытывает трудности с распознаванием изображений, когда они подвергаются небольшим, но целенаправленным искажениям."
      ],
      "metadata": {
        "id": "B6IbT2NpRkT5"
      }
    }
  ]
}